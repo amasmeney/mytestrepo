{
 "cells": [
  {
   "cell_type": "markdown",
   "id": "856801c3-a1c0-4cb3-81e0-d062cf511ef8",
   "metadata": {
    "tags": []
   },
   "source": [
    "# Data Science Tools and Ecosystem"
   ]
  },
  {
   "cell_type": "markdown",
   "id": "09f14e33-e3f8-4401-9546-d1623998bc06",
   "metadata": {},
   "source": [
    "In this notebook, Data Science Tools and Ecosystem are summarized."
   ]
  },
  {
   "cell_type": "markdown",
   "id": "e6b4e3a5-0a92-43bc-a2f8-33d44b09bdcb",
   "metadata": {},
   "source": [
    "**Objectives:**\n",
    "- Understand popular languages such as Python and R\n",
    "- Understand popular tools such as Jupyter Notebook, RStudio, GitHub\n",
    "- Understand popular libraries used in Data Science"
   ]
  },
  {
   "cell_type": "markdown",
   "id": "73b0473d-1780-4039-8019-f0d7e2be3577",
   "metadata": {},
   "source": [
    "Some of the popular languages that Data Scientists use are:\n",
    "1. Python\n",
    "2. R\n",
    "3. SQL"
   ]
  },
  {
   "cell_type": "markdown",
   "id": "295688db-43b5-4c1c-b315-c397bd25555f",
   "metadata": {},
   "source": [
    "Some of the commonly used libraries used by Data Scientists include:\n",
    "1. NumPy\n",
    "2. TensorFlow\n",
    "3. Apache Spark"
   ]
  },
  {
   "cell_type": "markdown",
   "id": "07db59f6-966a-498f-9ddb-99d3397ceef8",
   "metadata": {},
   "source": [
    "| Data Science Tools |\n",
    "| --- |\n",
    "| Jupyter Notebook |\n",
    "| R Studio |\n",
    "| GitHub |"
   ]
  },
  {
   "cell_type": "markdown",
   "id": "2a22a8c1-867b-4cb1-9d23-01b5f89b1f10",
   "metadata": {
    "tags": []
   },
   "source": [
    "### Below are a few examples of evaluating arithmetic expressions in Python."
   ]
  },
  {
   "cell_type": "code",
   "execution_count": 3,
   "id": "42a41012-88d2-42be-ae61-2939cf8aeabd",
   "metadata": {
    "tags": []
   },
   "outputs": [
    {
     "data": {
      "text/plain": [
       "17"
      ]
     },
     "execution_count": 3,
     "metadata": {},
     "output_type": "execute_result"
    }
   ],
   "source": [
    "# This a simple arithmetic expression to mutiply then add integers\n",
    "(3*4)+5"
   ]
  },
  {
   "cell_type": "code",
   "execution_count": 4,
   "id": "d7f8fe52-4ef7-4d56-b9a1-c212fe1efd75",
   "metadata": {
    "tags": []
   },
   "outputs": [
    {
     "data": {
      "text/plain": [
       "3.3333333333333335"
      ]
     },
     "execution_count": 4,
     "metadata": {},
     "output_type": "execute_result"
    }
   ],
   "source": [
    "# This will convert 200 minutes to hours by diving by 60\n",
    "200/60"
   ]
  },
  {
   "cell_type": "markdown",
   "id": "de0b69d7-2787-43b9-b281-540ff7c31a60",
   "metadata": {
    "tags": []
   },
   "source": [
    "## Author\n",
    "Xinfeng Chen"
   ]
  },
  {
   "cell_type": "code",
   "execution_count": null,
   "id": "4b842b1c-bf5d-4206-af8d-e6c522f48b81",
   "metadata": {},
   "outputs": [],
   "source": []
  }
 ],
 "metadata": {
  "kernelspec": {
   "display_name": "Python",
   "language": "python",
   "name": "conda-env-python-py"
  },
  "language_info": {
   "codemirror_mode": {
    "name": "ipython",
    "version": 3
   },
   "file_extension": ".py",
   "mimetype": "text/x-python",
   "name": "python",
   "nbconvert_exporter": "python",
   "pygments_lexer": "ipython3",
   "version": "3.7.12"
  }
 },
 "nbformat": 4,
 "nbformat_minor": 5
}
